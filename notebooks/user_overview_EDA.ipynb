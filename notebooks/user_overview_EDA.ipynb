{
 "cells": [
  {
   "cell_type": "markdown",
   "metadata": {},
   "source": [
    "---\n",
    "\n",
    "# Exploratory Data Analysis (EDA) for TellCo User Overview\n",
    "\n",
    "## Situational Overview\n",
    "\n",
    "I'm working for a wealthy investor interested in purchasing TellCo, a mobile service provider in the Republic of Pefkakia. The investor specializes in undervalued assets and relies on data-driven decisions to identify growth opportunities. My analysis of TellCo's telecommunication data will help determine whether TellCo is a valuable purchase and provide insights into customer behavior and potential profitability. \n",
    "\n",
    "This EDA will explore the dataset derived from TellCo's xDR records, representing the customers' activities on the network. It will inform further analysis and guide business recommendations.\n",
    "\n",
    "---"
   ]
  },
  {
   "cell_type": "markdown",
   "metadata": {},
   "source": [
    "## 1. Setup\n",
    "\n",
    "First, let's set up the environment by importing necessary libraries and loading the data."
   ]
  },
  {
   "cell_type": "code",
   "execution_count": 1,
   "metadata": {},
   "outputs": [],
   "source": [
    "# Import necessary libraries and modules\n",
    "import os\n",
    "import sys\n",
    "\n",
    "sys.path.insert(0, os.path.dirname(os.getcwd()))\n",
    "\n",
    "from scripts.conect_db import conn_db\n",
    "\n",
    "# Suppress FutureWarnings\n",
    "import warnings\n",
    "warnings.simplefilter(action='ignore', category=FutureWarning)"
   ]
  },
  {
   "cell_type": "code",
   "execution_count": 2,
   "metadata": {},
   "outputs": [
    {
     "name": "stdout",
     "output_type": "stream",
     "text": [
      "Connected to TellCo_db database successfully.\n"
     ]
    }
   ],
   "source": [
    "db = conn_db(\n",
    "    database='TellCo_db',\n",
    "    user='postgres',\n",
    "    password='SH36@jit',\n",
    "    host='localhost',\n",
    "    port='5432'\n",
    ")\n",
    "db.connect()\n"
   ]
  },
  {
   "cell_type": "code",
   "execution_count": 3,
   "metadata": {},
   "outputs": [
    {
     "name": "stdout",
     "output_type": "stream",
     "text": [
      "TellCo_db connection closed.\n",
      "           Bearer Id            Start  Start ms              End  End ms  \\\n",
      "0       1.311448e+19   4/4/2019 12:01     770.0  4/25/2019 14:35   662.0   \n",
      "1       1.311448e+19   4/9/2019 13:04     235.0   4/25/2019 8:15   606.0   \n",
      "2       1.311448e+19   4/9/2019 17:42       1.0  4/25/2019 11:58   652.0   \n",
      "3       1.311448e+19   4/10/2019 0:31     486.0   4/25/2019 7:36   171.0   \n",
      "4       1.311448e+19  4/12/2019 20:10     565.0  4/25/2019 10:40   954.0   \n",
      "...              ...              ...       ...              ...     ...   \n",
      "149996  7.277826e+18   4/29/2019 7:28     451.0   4/30/2019 6:02   214.0   \n",
      "149997  7.349883e+18   4/29/2019 7:28     483.0  4/30/2019 10:41   187.0   \n",
      "149998  1.311448e+19   4/29/2019 7:28     283.0  4/30/2019 10:46   810.0   \n",
      "149999  1.311448e+19   4/29/2019 7:28     696.0  4/30/2019 10:40   327.0   \n",
      "150000           NaN             None       NaN             None     NaN   \n",
      "\n",
      "         Dur. (s)          IMSI  MSISDN/Number          IMEI  \\\n",
      "0       1823652.0  2.082014e+14   3.366496e+10  3.552121e+13   \n",
      "1       1365104.0  2.082019e+14   3.368185e+10  3.579401e+13   \n",
      "2       1361762.0  2.082003e+14   3.376063e+10  3.528151e+13   \n",
      "3       1321509.0  2.082014e+14   3.375034e+10  3.535661e+13   \n",
      "4       1089009.0  2.082014e+14   3.369980e+10  3.540701e+13   \n",
      "...           ...           ...            ...           ...   \n",
      "149996    81230.0  2.082022e+14   3.365069e+10  3.548311e+13   \n",
      "149997    97970.0  2.082019e+14   3.366345e+10  3.566051e+13   \n",
      "149998    98249.0  2.082017e+14   3.362189e+10  3.572121e+13   \n",
      "149999    97910.0  2.082021e+14   3.361962e+10  8.618620e+13   \n",
      "150000        NaN           NaN            NaN           NaN   \n",
      "\n",
      "           Last Location Name  ...  Youtube DL (Bytes)  Youtube UL (Bytes)  \\\n",
      "0       9.16456699548519E+015  ...        1.585461e+07        2.501332e+06   \n",
      "1                     L77566A  ...        2.024740e+07        1.911173e+07   \n",
      "2                     D42335A  ...        1.972566e+07        1.469958e+07   \n",
      "3                     T21824A  ...        2.138812e+07        1.514664e+07   \n",
      "4                     D88865A  ...        1.525938e+07        1.896287e+07   \n",
      "...                       ...  ...                 ...                 ...   \n",
      "149996                D20434A  ...        1.619167e+07        1.176343e+07   \n",
      "149997                D10223C  ...        1.387723e+07        8.288284e+06   \n",
      "149998                T51102A  ...        2.266051e+07        1.855903e+06   \n",
      "149999                L88342B  ...        8.817106e+06        8.305402e+06   \n",
      "150000                   None  ...        1.163407e+07        1.100941e+07   \n",
      "\n",
      "        Netflix DL (Bytes)  Netflix UL (Bytes)  Gaming DL (Bytes)  \\\n",
      "0             8.198936e+06        9.656251e+06       2.780823e+08   \n",
      "1             1.833841e+07        1.722713e+07       6.087501e+08   \n",
      "2             1.758779e+07        6.163408e+06       2.295846e+08   \n",
      "3             1.399465e+07        1.097942e+06       7.995382e+08   \n",
      "4             1.712458e+07        4.152180e+05       5.277072e+08   \n",
      "...                    ...                 ...                ...   \n",
      "149996        1.788370e+07        1.967816e+07       5.266097e+08   \n",
      "149997        1.935015e+07        2.129315e+07       6.268931e+08   \n",
      "149998        9.963942e+06        5.065760e+06       5.535395e+08   \n",
      "149999        3.322253e+06        1.317259e+07       3.525370e+08   \n",
      "150000        1.162685e+07        1.100175e+07       4.220447e+08   \n",
      "\n",
      "        Gaming UL (Bytes)  Other DL (Bytes)  Other UL (Bytes)  \\\n",
      "0            1.434415e+07      1.717444e+08      8.814393e+06   \n",
      "1            1.170709e+06      5.269042e+08      1.505514e+07   \n",
      "2            3.956300e+05      4.106926e+08      4.215763e+06   \n",
      "3            1.084972e+07      7.490399e+08      1.279728e+07   \n",
      "4            3.529801e+06      5.507095e+08      1.391032e+07   \n",
      "...                   ...               ...               ...   \n",
      "149996       9.197207e+06      3.264510e+06      1.348742e+07   \n",
      "149997       4.735033e+06      7.121804e+08      2.457758e+06   \n",
      "149998       1.339432e+07      1.211009e+08      1.131473e+07   \n",
      "149999       2.529475e+06      8.147131e+08      1.406930e+06   \n",
      "150000       8.288398e+06      4.211005e+08      8.264799e+06   \n",
      "\n",
      "        Total UL (Bytes)  Total DL (Bytes)  \n",
      "0             36749741.0       308879636.0  \n",
      "1             53800391.0       653384965.0  \n",
      "2             27883638.0       279807335.0  \n",
      "3             43324218.0       846028530.0  \n",
      "4             38542814.0       569138589.0  \n",
      "...                  ...               ...  \n",
      "149996        57628851.0       574175259.0  \n",
      "149997        39135081.0       666648844.0  \n",
      "149998        34912224.0       592786405.0  \n",
      "149999        29626096.0       371895920.0  \n",
      "150000               NaN               NaN  \n",
      "\n",
      "[150001 rows x 55 columns]\n"
     ]
    },
    {
     "data": {
      "text/plain": [
       "Index(['Bearer Id', 'Start', 'Start ms', 'End', 'End ms', 'Dur. (s)', 'IMSI',\n",
       "       'MSISDN/Number', 'IMEI', 'Last Location Name', 'Avg RTT DL (ms)',\n",
       "       'Avg RTT UL (ms)', 'Avg Bearer TP DL (kbps)', 'Avg Bearer TP UL (kbps)',\n",
       "       'TCP DL Retrans. Vol (Bytes)', 'TCP UL Retrans. Vol (Bytes)',\n",
       "       'DL TP < 50 Kbps (%)', '50 Kbps < DL TP < 250 Kbps (%)',\n",
       "       '250 Kbps < DL TP < 1 Mbps (%)', 'DL TP > 1 Mbps (%)',\n",
       "       'UL TP < 10 Kbps (%)', '10 Kbps < UL TP < 50 Kbps (%)',\n",
       "       '50 Kbps < UL TP < 300 Kbps (%)', 'UL TP > 300 Kbps (%)',\n",
       "       'HTTP DL (Bytes)', 'HTTP UL (Bytes)', 'Activity Duration DL (ms)',\n",
       "       'Activity Duration UL (ms)', 'Dur. (ms).1', 'Handset Manufacturer',\n",
       "       'Handset Type', 'Nb of sec with 125000B < Vol DL',\n",
       "       'Nb of sec with 1250B < Vol UL < 6250B',\n",
       "       'Nb of sec with 31250B < Vol DL < 125000B',\n",
       "       'Nb of sec with 37500B < Vol UL',\n",
       "       'Nb of sec with 6250B < Vol DL < 31250B',\n",
       "       'Nb of sec with 6250B < Vol UL < 37500B',\n",
       "       'Nb of sec with Vol DL < 6250B', 'Nb of sec with Vol UL < 1250B',\n",
       "       'Social Media DL (Bytes)', 'Social Media UL (Bytes)',\n",
       "       'Google DL (Bytes)', 'Google UL (Bytes)', 'Email DL (Bytes)',\n",
       "       'Email UL (Bytes)', 'Youtube DL (Bytes)', 'Youtube UL (Bytes)',\n",
       "       'Netflix DL (Bytes)', 'Netflix UL (Bytes)', 'Gaming DL (Bytes)',\n",
       "       'Gaming UL (Bytes)', 'Other DL (Bytes)', 'Other UL (Bytes)',\n",
       "       'Total UL (Bytes)', 'Total DL (Bytes)'],\n",
       "      dtype='object')"
      ]
     },
     "execution_count": 3,
     "metadata": {},
     "output_type": "execute_result"
    }
   ],
   "source": [
    "# Fetch data as a DataFrame\n",
    "df = db.fetch_data(\"SELECT * FROM xdr_data;\")\n",
    "db.disconnect()\n",
    "print(df)\n",
    "df.columns"
   ]
  }
 ],
 "metadata": {
  "kernelspec": {
   "display_name": "week_2",
   "language": "python",
   "name": "python3"
  },
  "language_info": {
   "codemirror_mode": {
    "name": "ipython",
    "version": 3
   },
   "file_extension": ".py",
   "mimetype": "text/x-python",
   "name": "python",
   "nbconvert_exporter": "python",
   "pygments_lexer": "ipython3",
   "version": "3.10.9"
  }
 },
 "nbformat": 4,
 "nbformat_minor": 2
}
