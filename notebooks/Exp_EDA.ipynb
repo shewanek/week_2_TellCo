{
 "cells": [
  {
   "cell_type": "markdown",
   "metadata": {},
   "source": [
    "## Setup\n",
    "\n",
    "First, let's set up the environment by importing necessary libraries and loading the data."
   ]
  },
  {
   "cell_type": "code",
   "execution_count": 2,
   "metadata": {},
   "outputs": [],
   "source": [
    "# Import necessary libraries and modules\n",
    "import os\n",
    "import sys\n",
    "\n",
    "sys.path.insert(0, os.path.dirname(os.getcwd()))\n",
    "\n",
    "from scripts.conect_db import conn_db\n",
    "from scripts.tellCo_analysis import TellCoEDA\n",
    "from scripts.Exp_Analytics import Exp_Analytics\n",
    "\n",
    "# Suppress FutureWarnings\n",
    "import warnings\n",
    "warnings.simplefilter(action='ignore', category=FutureWarning)"
   ]
  },
  {
   "cell_type": "markdown",
   "metadata": {},
   "source": [
    "### Connecting to a PostgreSQL Database"
   ]
  },
  {
   "cell_type": "code",
   "execution_count": 3,
   "metadata": {},
   "outputs": [
    {
     "name": "stdout",
     "output_type": "stream",
     "text": [
      "Connected to TellCo_db database successfully.\n"
     ]
    }
   ],
   "source": [
    "db = conn_db(\n",
    "    database='TellCo_db',\n",
    "    user='postgres',\n",
    "    password='SH36@jit',\n",
    "    host='localhost',\n",
    "    port='5432'\n",
    ")\n",
    "db.connect()"
   ]
  },
  {
   "cell_type": "code",
   "execution_count": 4,
   "metadata": {},
   "outputs": [
    {
     "name": "stdout",
     "output_type": "stream",
     "text": [
      "TellCo_db connection closed.\n"
     ]
    }
   ],
   "source": [
    "# Fetch data as a DataFrame\n",
    "df = db.fetch_data(\"SELECT * FROM xdr_data;\")\n",
    "db.disconnect()\n",
    "# Initialize the TelecomEDA class\n",
    "tellCo_data = TellCoEDA(df)"
   ]
  },
  {
   "cell_type": "code",
   "execution_count": 5,
   "metadata": {},
   "outputs": [
    {
     "name": "stderr",
     "output_type": "stream",
     "text": [
      "c:\\Users\\Coop\\OneDrive\\Desktop\\10 Acedamy\\week-2\\scripts\\tellCo_analysis.py:47: SettingWithCopyWarning: \n",
      "A value is trying to be set on a copy of a slice from a DataFrame.\n",
      "Try using .loc[row_indexer,col_indexer] = value instead\n",
      "\n",
      "See the caveats in the documentation: https://pandas.pydata.org/pandas-docs/stable/user_guide/indexing.html#returning-a-view-versus-a-copy\n",
      "  self.df[numeric_cols] = self.df[numeric_cols].fillna(self.df[numeric_cols].mean())\n",
      "c:\\Users\\Coop\\OneDrive\\Desktop\\10 Acedamy\\week-2\\scripts\\tellCo_analysis.py:50: SettingWithCopyWarning: \n",
      "A value is trying to be set on a copy of a slice from a DataFrame\n",
      "\n",
      "See the caveats in the documentation: https://pandas.pydata.org/pandas-docs/stable/user_guide/indexing.html#returning-a-view-versus-a-copy\n",
      "  self.df['Handset Type'].fillna(self.df['Handset Type'].mode()[0], inplace=True)\n"
     ]
    }
   ],
   "source": [
    "# data wrangling\n",
    "df = tellCo_data.wrangle() # all EDA done here"
   ]
  },
  {
   "cell_type": "markdown",
   "metadata": {},
   "source": [
    "**Class Initialization**: The `Exp_Analytics` class is initialized with the clearly telecom dataset."
   ]
  },
  {
   "cell_type": "code",
   "execution_count": 6,
   "metadata": {},
   "outputs": [],
   "source": [
    "exp_anly = Exp_Analytics(df)"
   ]
  }
 ],
 "metadata": {
  "kernelspec": {
   "display_name": "week_2",
   "language": "python",
   "name": "python3"
  },
  "language_info": {
   "codemirror_mode": {
    "name": "ipython",
    "version": 3
   },
   "file_extension": ".py",
   "mimetype": "text/x-python",
   "name": "python",
   "nbconvert_exporter": "python",
   "pygments_lexer": "ipython3",
   "version": "3.10.9"
  }
 },
 "nbformat": 4,
 "nbformat_minor": 2
}
