{
 "cells": [
  {
   "cell_type": "markdown",
   "metadata": {},
   "source": [
    "## Setup\n",
    "\n",
    "First, let's set up the environment by importing necessary libraries and loading the data."
   ]
  },
  {
   "cell_type": "code",
   "execution_count": 1,
   "metadata": {},
   "outputs": [],
   "source": [
    "# Import necessary libraries and modules\n",
    "import os\n",
    "import sys\n",
    "\n",
    "sys.path.insert(0, os.path.dirname(os.getcwd()))\n",
    "\n",
    "from scripts.conect_db import conn_db\n",
    "from scripts.tellCo_analysis import TellCoEDA\n",
    "from scripts.user_engag_analysis import User_Engag_Analysis\n",
    "\n",
    "# Suppress FutureWarnings\n",
    "import warnings\n",
    "warnings.simplefilter(action='ignore', category=FutureWarning)"
   ]
  },
  {
   "cell_type": "markdown",
   "metadata": {},
   "source": [
    "### Connecting to a PostgreSQL Database"
   ]
  },
  {
   "cell_type": "code",
   "execution_count": 2,
   "metadata": {},
   "outputs": [
    {
     "name": "stdout",
     "output_type": "stream",
     "text": [
      "Connected to TellCo_db database successfully.\n"
     ]
    }
   ],
   "source": [
    "db = conn_db(\n",
    "    database='TellCo_db',\n",
    "    user='postgres',\n",
    "    password='SH36@jit',\n",
    "    host='localhost',\n",
    "    port='5432'\n",
    ")\n",
    "db.connect()"
   ]
  },
  {
   "cell_type": "code",
   "execution_count": 3,
   "metadata": {},
   "outputs": [
    {
     "name": "stdout",
     "output_type": "stream",
     "text": [
      "TellCo_db connection closed.\n"
     ]
    }
   ],
   "source": [
    "# Fetch data as a DataFrame\n",
    "df = db.fetch_data(\"SELECT * FROM xdr_data;\")\n",
    "db.disconnect()\n",
    "# Initialize the TelecomEDA class\n",
    "tellCo_data = TellCoEDA(df)"
   ]
  },
  {
   "cell_type": "code",
   "execution_count": 4,
   "metadata": {},
   "outputs": [
    {
     "name": "stderr",
     "output_type": "stream",
     "text": [
      "c:\\Users\\Coop\\OneDrive\\Desktop\\10 Acedamy\\week-2\\scripts\\tellCo_analysis.py:47: SettingWithCopyWarning: \n",
      "A value is trying to be set on a copy of a slice from a DataFrame.\n",
      "Try using .loc[row_indexer,col_indexer] = value instead\n",
      "\n",
      "See the caveats in the documentation: https://pandas.pydata.org/pandas-docs/stable/user_guide/indexing.html#returning-a-view-versus-a-copy\n",
      "  self.df[numeric_cols] = self.df[numeric_cols].fillna(self.df[numeric_cols].mean())\n"
     ]
    }
   ],
   "source": [
    "# data wrangling\n",
    "df = tellCo_data.wrangle()"
   ]
  },
  {
   "cell_type": "code",
   "execution_count": 6,
   "metadata": {},
   "outputs": [],
   "source": [
    "User_Engag = User_Engag_Analysis(df)"
   ]
  },
  {
   "cell_type": "code",
   "execution_count": 7,
   "metadata": {},
   "outputs": [
    {
     "data": {
      "text/html": [
       "<div>\n",
       "<style scoped>\n",
       "    .dataframe tbody tr th:only-of-type {\n",
       "        vertical-align: middle;\n",
       "    }\n",
       "\n",
       "    .dataframe tbody tr th {\n",
       "        vertical-align: top;\n",
       "    }\n",
       "\n",
       "    .dataframe thead th {\n",
       "        text-align: right;\n",
       "    }\n",
       "</style>\n",
       "<table border=\"1\" class=\"dataframe\">\n",
       "  <thead>\n",
       "    <tr style=\"text-align: right;\">\n",
       "      <th></th>\n",
       "      <th>total_duration</th>\n",
       "      <th>total_dl</th>\n",
       "      <th>total_ul</th>\n",
       "      <th>total_traffic</th>\n",
       "    </tr>\n",
       "    <tr>\n",
       "      <th>MSISDN/Number</th>\n",
       "      <th></th>\n",
       "      <th></th>\n",
       "      <th></th>\n",
       "      <th></th>\n",
       "    </tr>\n",
       "  </thead>\n",
       "  <tbody>\n",
       "    <tr>\n",
       "      <th>3.360100e+10</th>\n",
       "      <td>1.167200e+05</td>\n",
       "      <td>8.426375e+08</td>\n",
       "      <td>3.605311e+07</td>\n",
       "      <td>8.786906e+08</td>\n",
       "    </tr>\n",
       "    <tr>\n",
       "      <th>3.360100e+10</th>\n",
       "      <td>1.812300e+05</td>\n",
       "      <td>1.207552e+08</td>\n",
       "      <td>3.610446e+07</td>\n",
       "      <td>1.568596e+08</td>\n",
       "    </tr>\n",
       "    <tr>\n",
       "      <th>3.360100e+10</th>\n",
       "      <td>1.349690e+05</td>\n",
       "      <td>5.566597e+08</td>\n",
       "      <td>3.930682e+07</td>\n",
       "      <td>5.959665e+08</td>\n",
       "    </tr>\n",
       "    <tr>\n",
       "      <th>3.360101e+10</th>\n",
       "      <td>4.987800e+04</td>\n",
       "      <td>4.019932e+08</td>\n",
       "      <td>2.032753e+07</td>\n",
       "      <td>4.223207e+08</td>\n",
       "    </tr>\n",
       "    <tr>\n",
       "      <th>3.360101e+10</th>\n",
       "      <td>3.710400e+04</td>\n",
       "      <td>1.363130e+09</td>\n",
       "      <td>9.428053e+07</td>\n",
       "      <td>1.457411e+09</td>\n",
       "    </tr>\n",
       "    <tr>\n",
       "      <th>...</th>\n",
       "      <td>...</td>\n",
       "      <td>...</td>\n",
       "      <td>...</td>\n",
       "      <td>...</td>\n",
       "    </tr>\n",
       "    <tr>\n",
       "      <th>3.378998e+10</th>\n",
       "      <td>2.103890e+05</td>\n",
       "      <td>1.023862e+09</td>\n",
       "      <td>7.083142e+07</td>\n",
       "      <td>1.094693e+09</td>\n",
       "    </tr>\n",
       "    <tr>\n",
       "      <th>3.379000e+10</th>\n",
       "      <td>8.810000e+03</td>\n",
       "      <td>6.879252e+08</td>\n",
       "      <td>2.671643e+07</td>\n",
       "      <td>7.146416e+08</td>\n",
       "    </tr>\n",
       "    <tr>\n",
       "      <th>3.379000e+10</th>\n",
       "      <td>1.409880e+05</td>\n",
       "      <td>4.445751e+08</td>\n",
       "      <td>3.573224e+07</td>\n",
       "      <td>4.803073e+08</td>\n",
       "    </tr>\n",
       "    <tr>\n",
       "      <th>3.595829e+10</th>\n",
       "      <td>7.029411e+07</td>\n",
       "      <td>4.840458e+11</td>\n",
       "      <td>4.409934e+10</td>\n",
       "      <td>5.281451e+11</td>\n",
       "    </tr>\n",
       "    <tr>\n",
       "      <th>3.370000e+14</th>\n",
       "      <td>2.530300e+05</td>\n",
       "      <td>5.396350e+08</td>\n",
       "      <td>5.665284e+07</td>\n",
       "      <td>5.962878e+08</td>\n",
       "    </tr>\n",
       "  </tbody>\n",
       "</table>\n",
       "<p>106363 rows × 4 columns</p>\n",
       "</div>"
      ],
      "text/plain": [
       "               total_duration      total_dl      total_ul  total_traffic\n",
       "MSISDN/Number                                                           \n",
       "3.360100e+10     1.167200e+05  8.426375e+08  3.605311e+07   8.786906e+08\n",
       "3.360100e+10     1.812300e+05  1.207552e+08  3.610446e+07   1.568596e+08\n",
       "3.360100e+10     1.349690e+05  5.566597e+08  3.930682e+07   5.959665e+08\n",
       "3.360101e+10     4.987800e+04  4.019932e+08  2.032753e+07   4.223207e+08\n",
       "3.360101e+10     3.710400e+04  1.363130e+09  9.428053e+07   1.457411e+09\n",
       "...                       ...           ...           ...            ...\n",
       "3.378998e+10     2.103890e+05  1.023862e+09  7.083142e+07   1.094693e+09\n",
       "3.379000e+10     8.810000e+03  6.879252e+08  2.671643e+07   7.146416e+08\n",
       "3.379000e+10     1.409880e+05  4.445751e+08  3.573224e+07   4.803073e+08\n",
       "3.595829e+10     7.029411e+07  4.840458e+11  4.409934e+10   5.281451e+11\n",
       "3.370000e+14     2.530300e+05  5.396350e+08  5.665284e+07   5.962878e+08\n",
       "\n",
       "[106363 rows x 4 columns]"
      ]
     },
     "execution_count": 7,
     "metadata": {},
     "output_type": "execute_result"
    }
   ],
   "source": [
    "User_Engag.aggr_user_metrics()"
   ]
  },
  {
   "cell_type": "code",
   "execution_count": 8,
   "metadata": {},
   "outputs": [
    {
     "data": {
      "text/html": [
       "<div>\n",
       "<style scoped>\n",
       "    .dataframe tbody tr th:only-of-type {\n",
       "        vertical-align: middle;\n",
       "    }\n",
       "\n",
       "    .dataframe tbody tr th {\n",
       "        vertical-align: top;\n",
       "    }\n",
       "\n",
       "    .dataframe thead th {\n",
       "        text-align: right;\n",
       "    }\n",
       "</style>\n",
       "<table border=\"1\" class=\"dataframe\">\n",
       "  <thead>\n",
       "    <tr style=\"text-align: right;\">\n",
       "      <th></th>\n",
       "      <th>total_duration</th>\n",
       "      <th>total_dl</th>\n",
       "      <th>total_ul</th>\n",
       "      <th>total_traffic</th>\n",
       "    </tr>\n",
       "    <tr>\n",
       "      <th>MSISDN/Number</th>\n",
       "      <th></th>\n",
       "      <th></th>\n",
       "      <th></th>\n",
       "      <th></th>\n",
       "    </tr>\n",
       "  </thead>\n",
       "  <tbody>\n",
       "    <tr>\n",
       "      <th>3.360100e+10</th>\n",
       "      <td>0.001559</td>\n",
       "      <td>0.001723</td>\n",
       "      <td>0.000753</td>\n",
       "      <td>0.001601</td>\n",
       "    </tr>\n",
       "    <tr>\n",
       "      <th>3.360100e+10</th>\n",
       "      <td>0.002477</td>\n",
       "      <td>0.000231</td>\n",
       "      <td>0.000754</td>\n",
       "      <td>0.000234</td>\n",
       "    </tr>\n",
       "    <tr>\n",
       "      <th>3.360100e+10</th>\n",
       "      <td>0.001819</td>\n",
       "      <td>0.001132</td>\n",
       "      <td>0.000826</td>\n",
       "      <td>0.001066</td>\n",
       "    </tr>\n",
       "    <tr>\n",
       "      <th>3.360101e+10</th>\n",
       "      <td>0.000608</td>\n",
       "      <td>0.000812</td>\n",
       "      <td>0.000396</td>\n",
       "      <td>0.000737</td>\n",
       "    </tr>\n",
       "    <tr>\n",
       "      <th>3.360101e+10</th>\n",
       "      <td>0.000426</td>\n",
       "      <td>0.002798</td>\n",
       "      <td>0.002073</td>\n",
       "      <td>0.002697</td>\n",
       "    </tr>\n",
       "    <tr>\n",
       "      <th>...</th>\n",
       "      <td>...</td>\n",
       "      <td>...</td>\n",
       "      <td>...</td>\n",
       "      <td>...</td>\n",
       "    </tr>\n",
       "    <tr>\n",
       "      <th>3.378998e+10</th>\n",
       "      <td>0.002892</td>\n",
       "      <td>0.002097</td>\n",
       "      <td>0.001541</td>\n",
       "      <td>0.002010</td>\n",
       "    </tr>\n",
       "    <tr>\n",
       "      <th>3.379000e+10</th>\n",
       "      <td>0.000024</td>\n",
       "      <td>0.001403</td>\n",
       "      <td>0.000541</td>\n",
       "      <td>0.001290</td>\n",
       "    </tr>\n",
       "    <tr>\n",
       "      <th>3.379000e+10</th>\n",
       "      <td>0.001904</td>\n",
       "      <td>0.000900</td>\n",
       "      <td>0.000745</td>\n",
       "      <td>0.000847</td>\n",
       "    </tr>\n",
       "    <tr>\n",
       "      <th>3.595829e+10</th>\n",
       "      <td>1.000000</td>\n",
       "      <td>1.000000</td>\n",
       "      <td>1.000000</td>\n",
       "      <td>1.000000</td>\n",
       "    </tr>\n",
       "    <tr>\n",
       "      <th>3.370000e+14</th>\n",
       "      <td>0.003498</td>\n",
       "      <td>0.001097</td>\n",
       "      <td>0.001220</td>\n",
       "      <td>0.001066</td>\n",
       "    </tr>\n",
       "  </tbody>\n",
       "</table>\n",
       "<p>106363 rows × 4 columns</p>\n",
       "</div>"
      ],
      "text/plain": [
       "               total_duration  total_dl  total_ul  total_traffic\n",
       "MSISDN/Number                                                   \n",
       "3.360100e+10         0.001559  0.001723  0.000753       0.001601\n",
       "3.360100e+10         0.002477  0.000231  0.000754       0.000234\n",
       "3.360100e+10         0.001819  0.001132  0.000826       0.001066\n",
       "3.360101e+10         0.000608  0.000812  0.000396       0.000737\n",
       "3.360101e+10         0.000426  0.002798  0.002073       0.002697\n",
       "...                       ...       ...       ...            ...\n",
       "3.378998e+10         0.002892  0.002097  0.001541       0.002010\n",
       "3.379000e+10         0.000024  0.001403  0.000541       0.001290\n",
       "3.379000e+10         0.001904  0.000900  0.000745       0.000847\n",
       "3.595829e+10         1.000000  1.000000  1.000000       1.000000\n",
       "3.370000e+14         0.003498  0.001097  0.001220       0.001066\n",
       "\n",
       "[106363 rows x 4 columns]"
      ]
     },
     "execution_count": 8,
     "metadata": {},
     "output_type": "execute_result"
    }
   ],
   "source": [
    "User_Engag.normalize_metrics()"
   ]
  }
 ],
 "metadata": {
  "kernelspec": {
   "display_name": "week_2",
   "language": "python",
   "name": "python3"
  },
  "language_info": {
   "codemirror_mode": {
    "name": "ipython",
    "version": 3
   },
   "file_extension": ".py",
   "mimetype": "text/x-python",
   "name": "python",
   "nbconvert_exporter": "python",
   "pygments_lexer": "ipython3",
   "version": "3.10.9"
  }
 },
 "nbformat": 4,
 "nbformat_minor": 2
}
